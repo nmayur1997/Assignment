{
 "cells": [
  {
   "cell_type": "code",
   "execution_count": 1,
   "id": "15080460-c498-47b1-a603-5bda9a031c64",
   "metadata": {},
   "outputs": [],
   "source": [
    "## Question1 Create one variable containing string, list, float, tuple\n",
    "\n"
   ]
  },
  {
   "cell_type": "code",
   "execution_count": 2,
   "id": "6a1dc61b-e5e6-457c-b09c-52dbefd5eaf5",
   "metadata": {},
   "outputs": [],
   "source": [
    "a = [\"mayur\", 45, 45.65, True]"
   ]
  },
  {
   "cell_type": "markdown",
   "id": "f82c8384-fa5c-4c51-94fa-1b966d46b1b3",
   "metadata": {},
   "source": [
    "# What are the data types of below variables:\n",
    "var 1 - str\n",
    "var2 - str\n",
    "var 3 - list\n",
    "var 4 - float"
   ]
  },
  {
   "cell_type": "code",
   "execution_count": 14,
   "id": "f5c665f0-3c7e-4a99-800e-3bbf99aea67b",
   "metadata": {},
   "outputs": [],
   "source": [
    "a = ''"
   ]
  },
  {
   "cell_type": "code",
   "execution_count": 15,
   "id": "5fdeb815-f5fd-4984-ab87-7436580e2c24",
   "metadata": {},
   "outputs": [
    {
     "data": {
      "text/plain": [
       "str"
      ]
     },
     "execution_count": 15,
     "metadata": {},
     "output_type": "execute_result"
    }
   ],
   "source": [
    "type(a)"
   ]
  },
  {
   "cell_type": "code",
   "execution_count": 16,
   "id": "346661e6-448a-4873-97f2-742f5cacd8fb",
   "metadata": {},
   "outputs": [],
   "source": [
    "a = '[DL, ML, Python]'"
   ]
  },
  {
   "cell_type": "code",
   "execution_count": 17,
   "id": "f8439b63-bd50-4d57-a5f3-26953ebe3ffe",
   "metadata": {},
   "outputs": [
    {
     "data": {
      "text/plain": [
       "str"
      ]
     },
     "execution_count": 17,
     "metadata": {},
     "output_type": "execute_result"
    }
   ],
   "source": [
    "type(a)"
   ]
  },
  {
   "cell_type": "code",
   "execution_count": 18,
   "id": "998a19a0-4e02-4da4-bda9-2a47d016c18d",
   "metadata": {},
   "outputs": [],
   "source": [
    "a = ['DS', 'ML', 'Python']"
   ]
  },
  {
   "cell_type": "code",
   "execution_count": 19,
   "id": "82ac2a20-cc1e-4876-9431-154cd2c64977",
   "metadata": {},
   "outputs": [
    {
     "data": {
      "text/plain": [
       "list"
      ]
     },
     "execution_count": 19,
     "metadata": {},
     "output_type": "execute_result"
    }
   ],
   "source": [
    "type(a)"
   ]
  },
  {
   "cell_type": "code",
   "execution_count": 20,
   "id": "1113858b-d01c-49de-bd23-0cf2c036560d",
   "metadata": {},
   "outputs": [],
   "source": [
    "a = 1."
   ]
  },
  {
   "cell_type": "code",
   "execution_count": 21,
   "id": "250baef0-56e9-465e-b29c-0201d8af517a",
   "metadata": {},
   "outputs": [
    {
     "data": {
      "text/plain": [
       "float"
      ]
     },
     "execution_count": 21,
     "metadata": {},
     "output_type": "execute_result"
    }
   ],
   "source": [
    "type(a)"
   ]
  },
  {
   "cell_type": "markdown",
   "id": "1f1c2e97-465b-4941-87df-c9416f7db95a",
   "metadata": {},
   "source": [
    "# Explain the use of the following operators using an example:\n",
    "(i) /\n",
    "(ii) %\n",
    "(iii) //\n",
    "(iv) **\n"
   ]
  },
  {
   "cell_type": "code",
   "execution_count": 2,
   "id": "f118a1be-e45a-4307-9e72-6146cfda0624",
   "metadata": {},
   "outputs": [
    {
     "data": {
      "text/plain": [
       "33.333333333333336"
      ]
     },
     "execution_count": 2,
     "metadata": {},
     "output_type": "execute_result"
    }
   ],
   "source": [
    "100/3"
   ]
  },
  {
   "cell_type": "code",
   "execution_count": 3,
   "id": "e09093e2-c3fc-45de-bc0d-51d9d17d386c",
   "metadata": {},
   "outputs": [
    {
     "data": {
      "text/plain": [
       "1"
      ]
     },
     "execution_count": 3,
     "metadata": {},
     "output_type": "execute_result"
    }
   ],
   "source": [
    "100%3"
   ]
  },
  {
   "cell_type": "code",
   "execution_count": 4,
   "id": "17a9d97f-6d64-4984-ab13-722228404882",
   "metadata": {},
   "outputs": [
    {
     "data": {
      "text/plain": [
       "33"
      ]
     },
     "execution_count": 4,
     "metadata": {},
     "output_type": "execute_result"
    }
   ],
   "source": [
    "100//3"
   ]
  },
  {
   "cell_type": "code",
   "execution_count": 5,
   "id": "62dc5bb8-5762-4e36-9a49-cc05ab522723",
   "metadata": {},
   "outputs": [
    {
     "data": {
      "text/plain": [
       "1000000"
      ]
     },
     "execution_count": 5,
     "metadata": {},
     "output_type": "execute_result"
    }
   ],
   "source": [
    "100**3"
   ]
  },
  {
   "cell_type": "markdown",
   "id": "e3c48ae6-67b2-482a-8cd6-5ac42c78f93b",
   "metadata": {},
   "source": [
    "# Create a list of length 10 of your choice containing multiple types of data. Using for loop print the\n",
    "element and its data type."
   ]
  },
  {
   "cell_type": "code",
   "execution_count": 8,
   "id": "8ae40b45-d744-469a-a8eb-77769b639403",
   "metadata": {},
   "outputs": [],
   "source": [
    "a = [\"mayur\", True, 45, 4+5j,45.45,[1,2,3], 45.,\"sir\", 564,False]"
   ]
  },
  {
   "cell_type": "code",
   "execution_count": 9,
   "id": "687c28ee-1ba5-4a59-87c4-56e85a8866cb",
   "metadata": {},
   "outputs": [
    {
     "name": "stdout",
     "output_type": "stream",
     "text": [
      "mayur <class 'str'>\n",
      "True <class 'bool'>\n",
      "45 <class 'int'>\n",
      "(4+5j) <class 'complex'>\n",
      "45.45 <class 'float'>\n",
      "[1, 2, 3] <class 'list'>\n",
      "45.0 <class 'float'>\n",
      "sir <class 'str'>\n",
      "564 <class 'int'>\n",
      "False <class 'bool'>\n"
     ]
    }
   ],
   "source": [
    "for i in a :\n",
    "    print(i,type(i))"
   ]
  },
  {
   "cell_type": "markdown",
   "id": "fe3725b6-260f-42c6-9470-6ffe64e63465",
   "metadata": {},
   "source": [
    "Using a while loop, verify if the number A is purely divisible by number B and if so then how many\n",
    "times it can be divisible.\n"
   ]
  },
  {
   "cell_type": "code",
   "execution_count": 4,
   "id": "691d44e1-889f-455c-8a30-80d41946e7a7",
   "metadata": {},
   "outputs": [
    {
     "name": "stdout",
     "output_type": "stream",
     "text": [
      "100 is divisible by 5 2 times.\n"
     ]
    }
   ],
   "source": [
    "def count_divisible(a, b):\n",
    "    count = 0\n",
    "\n",
    "    while a % b == 0:\n",
    "        a = a / b\n",
    "        count += 1\n",
    "\n",
    "    return count\n",
    "\n",
    "# Example usage:\n",
    "A = 100\n",
    "B = 5\n",
    "result = count_divisible(A, B)\n",
    "print(f\"{A} is divisible by {B} {result} times.\")\n"
   ]
  },
  {
   "cell_type": "markdown",
   "id": "57e76f01-7a52-4a07-b803-c7103a0dbfd8",
   "metadata": {},
   "source": [
    "Q6. Create a list containing 25 int type data. Using for loop and if-else condition print if the element is\n",
    "divisible by 3 or not."
   ]
  },
  {
   "cell_type": "code",
   "execution_count": 5,
   "id": "606231fb-11f3-440c-ac71-60be4874dec4",
   "metadata": {},
   "outputs": [],
   "source": [
    "int_list = [i for i in range(1,51)]"
   ]
  },
  {
   "cell_type": "code",
   "execution_count": 7,
   "id": "ab7114a8-ba1a-4711-bc50-b6a446052191",
   "metadata": {},
   "outputs": [
    {
     "name": "stdout",
     "output_type": "stream",
     "text": [
      "1 is not divisible by 3.\n",
      "2 is not divisible by 3.\n",
      "3 is divisible by 3.\n",
      "4 is not divisible by 3.\n",
      "5 is not divisible by 3.\n",
      "6 is divisible by 3.\n",
      "7 is not divisible by 3.\n",
      "8 is not divisible by 3.\n",
      "9 is divisible by 3.\n",
      "10 is not divisible by 3.\n",
      "11 is not divisible by 3.\n",
      "12 is divisible by 3.\n",
      "13 is not divisible by 3.\n",
      "14 is not divisible by 3.\n",
      "15 is divisible by 3.\n",
      "16 is not divisible by 3.\n",
      "17 is not divisible by 3.\n",
      "18 is divisible by 3.\n",
      "19 is not divisible by 3.\n",
      "20 is not divisible by 3.\n",
      "21 is divisible by 3.\n",
      "22 is not divisible by 3.\n",
      "23 is not divisible by 3.\n",
      "24 is divisible by 3.\n",
      "25 is not divisible by 3.\n",
      "26 is not divisible by 3.\n",
      "27 is divisible by 3.\n",
      "28 is not divisible by 3.\n",
      "29 is not divisible by 3.\n",
      "30 is divisible by 3.\n",
      "31 is not divisible by 3.\n",
      "32 is not divisible by 3.\n",
      "33 is divisible by 3.\n",
      "34 is not divisible by 3.\n",
      "35 is not divisible by 3.\n",
      "36 is divisible by 3.\n",
      "37 is not divisible by 3.\n",
      "38 is not divisible by 3.\n",
      "39 is divisible by 3.\n",
      "40 is not divisible by 3.\n",
      "41 is not divisible by 3.\n",
      "42 is divisible by 3.\n",
      "43 is not divisible by 3.\n",
      "44 is not divisible by 3.\n",
      "45 is divisible by 3.\n",
      "46 is not divisible by 3.\n",
      "47 is not divisible by 3.\n",
      "48 is divisible by 3.\n",
      "49 is not divisible by 3.\n",
      "50 is not divisible by 3.\n"
     ]
    }
   ],
   "source": [
    "for num in int_list:\n",
    "    if num % 3 == 0:\n",
    "        print(f\"{num} is divisible by 3.\")\n",
    "    else:\n",
    "        print(f\"{num} is not divisible by 3.\")"
   ]
  },
  {
   "cell_type": "markdown",
   "id": "f9159bd0-915d-437a-a577-034f950d5ced",
   "metadata": {},
   "source": [
    "Question 7 . What do you understand about mutable and immutable data types? Give examples for both showing\n",
    "this property."
   ]
  },
  {
   "cell_type": "markdown",
   "id": "1cc7e4b7-2210-44ec-bf86-b1a27a4b91ec",
   "metadata": {},
   "source": [
    "Mutable data types are those whose values can be modified or changed after creation\n",
    "and immutable data types are those whose values cannot be modified or changed after creation."
   ]
  },
  {
   "cell_type": "markdown",
   "id": "b4d52163-65f9-42e4-9ab0-39101b4e1405",
   "metadata": {},
   "source": [
    "Mutables example"
   ]
  },
  {
   "cell_type": "code",
   "execution_count": 8,
   "id": "af711e32-7408-4fe7-aea4-39dabd30345e",
   "metadata": {},
   "outputs": [],
   "source": [
    "new_list = [1,2,3,4,5]"
   ]
  },
  {
   "cell_type": "code",
   "execution_count": 10,
   "id": "ee9f7a40-4d02-4676-946c-09b6d825b0a5",
   "metadata": {},
   "outputs": [],
   "source": [
    "new_list[2] = 100"
   ]
  },
  {
   "cell_type": "code",
   "execution_count": 11,
   "id": "a9dc1e79-237d-4154-ad1d-c1943d61d8cc",
   "metadata": {},
   "outputs": [
    {
     "data": {
      "text/plain": [
       "[1, 2, 100, 4, 5]"
      ]
     },
     "execution_count": 11,
     "metadata": {},
     "output_type": "execute_result"
    }
   ],
   "source": [
    "new_list"
   ]
  },
  {
   "cell_type": "markdown",
   "id": "f398e0fc-99cd-4ffe-876a-9e06f0df947e",
   "metadata": {},
   "source": [
    "Immutables Example"
   ]
  },
  {
   "cell_type": "code",
   "execution_count": 12,
   "id": "c8aedd07-9082-40f1-8961-d1a575ca1db0",
   "metadata": {},
   "outputs": [],
   "source": [
    "my_string = \"Mayur\""
   ]
  },
  {
   "cell_type": "code",
   "execution_count": 14,
   "id": "fe8e5437-9261-4948-b344-9b9407f664ed",
   "metadata": {},
   "outputs": [
    {
     "ename": "TypeError",
     "evalue": "'str' object does not support item assignment",
     "output_type": "error",
     "traceback": [
      "\u001b[0;31m---------------------------------------------------------------------------\u001b[0m",
      "\u001b[0;31mTypeError\u001b[0m                                 Traceback (most recent call last)",
      "Cell \u001b[0;32mIn[14], line 1\u001b[0m\n\u001b[0;32m----> 1\u001b[0m \u001b[43mmy_string\u001b[49m\u001b[43m[\u001b[49m\u001b[38;5;241;43m0\u001b[39;49m\u001b[43m]\u001b[49m \u001b[38;5;241m=\u001b[39m \u001b[38;5;124m\"\u001b[39m\u001b[38;5;124mK\u001b[39m\u001b[38;5;124m\"\u001b[39m\n",
      "\u001b[0;31mTypeError\u001b[0m: 'str' object does not support item assignment"
     ]
    }
   ],
   "source": [
    "my_string[0] = \"K\""
   ]
  },
  {
   "cell_type": "code",
   "execution_count": null,
   "id": "05bfd4d9-55ed-48c2-a4c9-320906fc0ea2",
   "metadata": {},
   "outputs": [],
   "source": []
  }
 ],
 "metadata": {
  "kernelspec": {
   "display_name": "Python 3 (ipykernel)",
   "language": "python",
   "name": "python3"
  },
  "language_info": {
   "codemirror_mode": {
    "name": "ipython",
    "version": 3
   },
   "file_extension": ".py",
   "mimetype": "text/x-python",
   "name": "python",
   "nbconvert_exporter": "python",
   "pygments_lexer": "ipython3",
   "version": "3.10.8"
  }
 },
 "nbformat": 4,
 "nbformat_minor": 5
}
